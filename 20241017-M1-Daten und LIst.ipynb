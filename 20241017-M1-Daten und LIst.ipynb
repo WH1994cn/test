{
 "cells": [
  {
   "cell_type": "code",
   "execution_count": 1,
   "id": "73e17a0a",
   "metadata": {},
   "outputs": [
    {
     "name": "stdout",
     "output_type": "stream",
     "text": [
      "hallo\n"
     ]
    }
   ],
   "source": [
    "print('hallo')\n"
   ]
  },
  {
   "cell_type": "code",
   "execution_count": 3,
   "id": "226b43bf",
   "metadata": {},
   "outputs": [
    {
     "name": "stdout",
     "output_type": "stream",
     "text": [
      "hallo\n",
      "true\n"
     ]
    }
   ],
   "source": [
    "true='true'\n",
    "print('hallo')\n",
    "print(true)\n"
   ]
  },
  {
   "cell_type": "code",
   "execution_count": 3,
   "id": "7a9f7332-0abb-4abf-b508-a7bc598f10ae",
   "metadata": {},
   "outputs": [
    {
     "name": "stdout",
     "output_type": "stream",
     "text": [
      "10\n"
     ]
    }
   ],
   "source": [
    "Daten=10\n",
    "print(Daten)\n",
    "# print(daten) 储存变量名区分大小写Value name "
   ]
  },
  {
   "cell_type": "code",
   "execution_count": 5,
   "id": "58187ad9-33c4-4394-bf90-e862fbf2c96b",
   "metadata": {},
   "outputs": [
    {
     "name": "stdout",
     "output_type": "stream",
     "text": [
      "10\n",
      "15\n"
     ]
    }
   ],
   "source": [
    "ad_Daten=15\n",
    "print(Daten)\n",
    "print(ad_Daten)"
   ]
  },
  {
   "cell_type": "code",
   "execution_count": null,
   "id": "f7b22eec-6aeb-4edd-8362-0f99e961381a",
   "metadata": {},
   "outputs": [],
   "source": []
  },
  {
   "cell_type": "code",
   "execution_count": null,
   "id": "de2f6004-1730-4f7b-b942-cbcbc982e92d",
   "metadata": {},
   "outputs": [],
   "source": []
  },
  {
   "cell_type": "code",
   "execution_count": null,
   "id": "9459aa34-96ef-42ad-aaff-7c41d07f2460",
   "metadata": {},
   "outputs": [],
   "source": []
  },
  {
   "cell_type": "code",
   "execution_count": null,
   "id": "45279f6a-b9cf-48c7-a784-e4deb834321a",
   "metadata": {},
   "outputs": [],
   "source": []
  },
  {
   "cell_type": "code",
   "execution_count": null,
   "id": "03aee87e",
   "metadata": {},
   "outputs": [],
   "source": []
  }
 ],
 "metadata": {
  "kernelspec": {
   "display_name": "Python 3 (ipykernel)",
   "language": "python",
   "name": "python3"
  },
  "language_info": {
   "codemirror_mode": {
    "name": "ipython",
    "version": 3
   },
   "file_extension": ".py",
   "mimetype": "text/x-python",
   "name": "python",
   "nbconvert_exporter": "python",
   "pygments_lexer": "ipython3",
   "version": "3.12.7"
  }
 },
 "nbformat": 4,
 "nbformat_minor": 5
}
